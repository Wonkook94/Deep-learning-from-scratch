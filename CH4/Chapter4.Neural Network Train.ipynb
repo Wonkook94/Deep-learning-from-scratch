{
 "cells": [
  {
   "cell_type": "markdown",
   "id": "a78038bc",
   "metadata": {},
   "source": [
    "## 4.2.1 오차제곱합(Sum of Squares for Error, SSE)"
   ]
  },
  {
   "cell_type": "markdown",
   "id": "0d4829ae",
   "metadata": {},
   "source": [
    "$E={1\\over2}\\sum_k^n({y_k-t_k})^2$"
   ]
  },
  {
   "cell_type": "code",
   "execution_count": 2,
   "id": "26f4758b",
   "metadata": {},
   "outputs": [],
   "source": [
    "import numpy as np"
   ]
  },
  {
   "cell_type": "code",
   "execution_count": 1,
   "id": "d187308f",
   "metadata": {},
   "outputs": [],
   "source": [
    "y = [0.1, 0.05, 0.6, 0.0, 0.05, 0.1, 0.0, 0.1, 0.0, 0.0]\n",
    "# y : 신경망의 출력(신경망이 추정한 값)\n",
    "t = [0, 0, 1, 0, 0, 0, 0, 0, 0, 0]\n",
    "# t : 정답 레이블 (one-hot-encoding)"
   ]
  },
  {
   "cell_type": "code",
   "execution_count": 4,
   "id": "3d90da41",
   "metadata": {},
   "outputs": [],
   "source": [
    "def sum_squares_error(y,t):\n",
    "    return 0.5*np.sum((y-t)**2)"
   ]
  },
  {
   "cell_type": "code",
   "execution_count": 6,
   "id": "995282e2",
   "metadata": {},
   "outputs": [
    {
     "data": {
      "text/plain": [
       "0.09750000000000003"
      ]
     },
     "execution_count": 6,
     "metadata": {},
     "output_type": "execute_result"
    }
   ],
   "source": [
    "# 예제 1\n",
    "# 신경망의 예측값 : 2 , 실제 값 : 2\n",
    "y = [0.1, 0.05, 0.6, 0.0, 0.05, 0.1, 0.0, 0.1, 0.0, 0.0]\n",
    "sum_squares_error(np.array(y),np.array(t))"
   ]
  },
  {
   "cell_type": "code",
   "execution_count": 8,
   "id": "27c6b254",
   "metadata": {},
   "outputs": [
    {
     "data": {
      "text/plain": [
       "0.6437499999999999"
      ]
     },
     "execution_count": 8,
     "metadata": {},
     "output_type": "execute_result"
    }
   ],
   "source": [
    "# 예제 2\n",
    "# 신경망의 예측값 : 7, 실제 값 : 2\n",
    "y = [0.1, 0.05, 0.05, 0.0, 0.05, 0.1, 0.0, 0.6, 0.0, 0.0]\n",
    "sum_squares_error(np.array(y),np.array(t))"
   ]
  },
  {
   "cell_type": "code",
   "execution_count": 10,
   "id": "901e72d0",
   "metadata": {},
   "outputs": [],
   "source": [
    "# 예측값이 실제 값과 다르면 오차의 합도 커진다."
   ]
  },
  {
   "cell_type": "markdown",
   "id": "3e7e42f2",
   "metadata": {},
   "source": [
    "## 4.2.2 교차 엔트로피 오차 (Cross Entropy Error, CEE)"
   ]
  },
  {
   "cell_type": "markdown",
   "id": "8ceec294",
   "metadata": {},
   "source": [
    "$E=-\\sum_k^nt_k\\log{y_k}$"
   ]
  },
  {
   "cell_type": "code",
   "execution_count": 12,
   "id": "3dee57b1",
   "metadata": {},
   "outputs": [],
   "source": [
    "def cross_entropy_error(y,t):\n",
    "    delta = 1e-7    # log0 이 되는것을 방지해주는 역할\n",
    "    return -np.sum(t*np.log(y+delta))"
   ]
  },
  {
   "cell_type": "code",
   "execution_count": 14,
   "id": "c9612458",
   "metadata": {},
   "outputs": [
    {
     "data": {
      "text/plain": [
       "0.510825457099338"
      ]
     },
     "execution_count": 14,
     "metadata": {},
     "output_type": "execute_result"
    }
   ],
   "source": [
    "# 예제 1\n",
    "# 신경망의 예측값 : 2 , 실제 값 : 2\n",
    "y = [0.1, 0.05, 0.6, 0.0, 0.05, 0.1, 0.0, 0.1, 0.0, 0.0]\n",
    "cross_entropy_error(np.array(y),np.array(t))"
   ]
  },
  {
   "cell_type": "code",
   "execution_count": 16,
   "id": "0aa32abc",
   "metadata": {},
   "outputs": [
    {
     "data": {
      "text/plain": [
       "2.9957302735559908"
      ]
     },
     "execution_count": 16,
     "metadata": {},
     "output_type": "execute_result"
    }
   ],
   "source": [
    "# 예제 2\n",
    "# 신경망의 예측값 : 7, 실제 값 : 2\n",
    "y = [0.1, 0.05, 0.05, 0.0, 0.05, 0.1, 0.0, 0.6, 0.0, 0.0]\n",
    "cross_entropy_error(np.array(y),np.array(t))"
   ]
  },
  {
   "cell_type": "markdown",
   "id": "bf30eca1",
   "metadata": {},
   "source": [
    "## 4.2.3 미니배치 학습"
   ]
  },
  {
   "cell_type": "code",
   "execution_count": null,
   "id": "508f4acd",
   "metadata": {},
   "outputs": [],
   "source": []
  },
  {
   "cell_type": "code",
   "execution_count": null,
   "id": "c0c4e7b2",
   "metadata": {},
   "outputs": [],
   "source": []
  },
  {
   "cell_type": "code",
   "execution_count": null,
   "id": "ef46b395",
   "metadata": {},
   "outputs": [],
   "source": []
  },
  {
   "cell_type": "code",
   "execution_count": null,
   "id": "1b8e912d",
   "metadata": {},
   "outputs": [],
   "source": []
  },
  {
   "cell_type": "code",
   "execution_count": null,
   "id": "eb88ada8",
   "metadata": {},
   "outputs": [],
   "source": []
  }
 ],
 "metadata": {
  "kernelspec": {
   "display_name": "Python 3",
   "language": "python",
   "name": "python3"
  },
  "language_info": {
   "codemirror_mode": {
    "name": "ipython",
    "version": 3
   },
   "file_extension": ".py",
   "mimetype": "text/x-python",
   "name": "python",
   "nbconvert_exporter": "python",
   "pygments_lexer": "ipython3",
   "version": "3.8.5"
  }
 },
 "nbformat": 4,
 "nbformat_minor": 5
}
